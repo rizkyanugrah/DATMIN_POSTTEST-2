{
  "nbformat": 4,
  "nbformat_minor": 0,
  "metadata": {
    "colab": {
      "provenance": [],
      "include_colab_link": true
    },
    "kernelspec": {
      "name": "python3",
      "display_name": "Python 3"
    },
    "language_info": {
      "name": "python"
    }
  },
  "cells": [
    {
      "cell_type": "markdown",
      "metadata": {
        "id": "view-in-github",
        "colab_type": "text"
      },
      "source": [
        "<a href=\"https://colab.research.google.com/github/rizkyanugrah/DATMIN_POSTTEST-2/blob/main/Muhammad_Rizky_Anugrah(2109116066)_Posttest_2.ipynb\" target=\"_parent\"><img src=\"https://colab.research.google.com/assets/colab-badge.svg\" alt=\"Open In Colab\"/></a>"
      ]
    },
    {
      "cell_type": "markdown",
      "source": [
        "# (1) Apriori"
      ],
      "metadata": {
        "id": "-0zOQSl3wlwj"
      }
    },
    {
      "cell_type": "markdown",
      "source": [
        "Gunakan dataset ini : https://drive.google.com/file/d/1BqC-2d1ZYqFIFwdjdsW5bAAqNFh2AO4C/view?usp=share_link\n",
        "\n",
        "Dan buatlah daftar support dan confidence untuk 2 item set dengan menggunakan dataset tersebut (hint : buatlah tabel tabulasi terlebih dahulu untuk memudahkan)"
      ],
      "metadata": {
        "id": "h-to2rkExJxa"
      }
    },
    {
      "cell_type": "code",
      "source": [
        "import pandas as pd # import\n",
        "from mlxtend.frequent_patterns import apriori, association_rules #import"
      ],
      "metadata": {
        "id": "PvF2QzssjnM5"
      },
      "execution_count": 2,
      "outputs": []
    },
    {
      "cell_type": "code",
      "source": [
        "df = pd.read_csv(\"https://raw.githubusercontent.com/rizkyanugrah/DATMIN_POSTTEST-2/main/dataset_market_basket.csv\") # df untuk membaca file dataset dengan method read_csv"
      ],
      "metadata": {
        "id": "p_tPxP5zkR3f"
      },
      "execution_count": 19,
      "outputs": []
    },
    {
      "cell_type": "code",
      "source": [
        "df # Lihat Data  item pada variavel df"
      ],
      "metadata": {
        "id": "Mr1ag4L-kinH"
      },
      "execution_count": null,
      "outputs": []
    },
    {
      "cell_type": "code",
      "source": [
        "# 1 item set\n",
        "\n",
        "df.sum() # hitung jumlah nilai di setiap kolom"
      ],
      "metadata": {
        "id": "s8Q7JCHpknAp"
      },
      "execution_count": null,
      "outputs": []
    },
    {
      "cell_type": "code",
      "source": [
        "# 2 Item set\n",
        "from itertools import permutations #Import Library \n",
        "\n",
        "#membuat perbandingan data\n",
        "rules = list(permutations(df.columns, 2))\n",
        "rules # untuk menampilkan keseluruhan hasil kombinasi"
      ],
      "metadata": {
        "id": "hOHQG6mvkp99"
      },
      "execution_count": null,
      "outputs": []
    },
    {
      "cell_type": "code",
      "source": [
        "# mengfilter data yang dimana hanya item yang ada saja yang akan terhitung\n",
        "\n",
        "rule_baru = [] # menyimpan data dalam bentuk list\n",
        "for rule in rules:\n",
        "  if len(df[(df[rule[0]]==1) & (df[rule[1]]==1)]) >0:\n",
        "    rule_baru.append(rule)\n",
        "rule_baru"
      ],
      "metadata": {
        "id": "DJ6wzepjkt7m"
      },
      "execution_count": null,
      "outputs": []
    },
    {
      "cell_type": "code",
      "source": [
        "# melihat jumlah data 2 item set\n",
        "hitung = {} #Ganti dictionary\n",
        "for rule in rule_baru:\n",
        "  banyak_data= len(df[\n",
        "      (df[rule[0]]==1) & (df[rule[1]]==1)\n",
        "      ])\n",
        "  hitung[str(rule)] = banyak_data\n",
        "\n",
        "hitung"
      ],
      "metadata": {
        "id": "9QkPB1lpk2Ef"
      },
      "execution_count": null,
      "outputs": []
    },
    {
      "cell_type": "code",
      "source": [
        "# List support\n",
        "supp = [i/len(df)*100 for i in hitung.values()]\n",
        "print(supp)\n",
        "print(\"---\")\n",
        "for item,support in hitung.items():\n",
        "  print(f\"{item} support = {round(support/len(df)*100)}%\")"
      ],
      "metadata": {
        "id": "9Q9suhVrk6GM"
      },
      "execution_count": null,
      "outputs": []
    },
    {
      "cell_type": "code",
      "source": [
        "# List Confidence\n",
        "for item,ab in hitung.items():  # Untuk melakukan perulangan pembacaan dataset pada tiap - tiap kombinasi itemnya\n",
        "  #\"A->B\"\n",
        "  i = eval(item)#Ubah ke list dari string\n",
        "  print(f\"{i[0]}->{i[1]} Confidence = {ab/df[i[0]].sum()*100}%\") # Menghitung confidence pada tiap tiap kombinasi item dan menampilkannya\n",
        "     "
      ],
      "metadata": {
        "id": "CtVvPNMLlBHB"
      },
      "execution_count": null,
      "outputs": []
    },
    {
      "cell_type": "markdown",
      "source": [
        "#(2) KNN\n",
        "\n",
        "Gunakan dataset ini : https://drive.google.com/file/d/1pXAJZZXCXosf0PTJkyogopKaPFxCYl22/view?usp=share_link\n",
        "\n",
        "Kemudian buatlah tabel jarak berdasarkan data berikut ini : \n",
        "\n",
        "![Gambar](data:image/png;base64,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)\n",
        "<!-- 1412 -->"
      ],
      "metadata": {
        "id": "wEgfTlH7xlgG"
      }
    },
    {
      "cell_type": "markdown",
      "source": [
        "### Collect and Describe Data"
      ],
      "metadata": {
        "id": "xo-00fyOww7M"
      }
    },
    {
      "cell_type": "code",
      "source": [
        "df2 = pd.read_csv(\"https://raw.githubusercontent.com/rizkyanugrah/DATMIN_POSTTEST-2/main/deteksi_uang_palsu.csv\")\n",
        "df2"
      ],
      "metadata": {
        "id": "2E4P4WxTxAqs"
      },
      "execution_count": null,
      "outputs": []
    },
    {
      "cell_type": "markdown",
      "source": [
        "### Membuat tabel jarak berdasarkan data baru yang ingin ditambahkan"
      ],
      "metadata": {
        "id": "pdtHtHvoxEOq"
      }
    },
    {
      "cell_type": "code",
      "source": [
        "# Membuat tabel jarak berdasarkan data baru yang ingin ditambahkan\n",
        "\n",
        "from sklearn.metrics.pairwise import euclidean_distances\n",
        "\n",
        "# membuat dataframe dari data baru\n",
        "new_data = pd.DataFrame({'diagonal'    : [172.25],\n",
        "                         'height_left' : [103.94],\n",
        "                         'height_right': [103.68],\n",
        "                         'margin_low'  : [4.14],\n",
        "                         'margin_up'   : [3.25],\n",
        "                         'length'      : [112.48]})\n",
        "\n",
        "# Menghitung jarak antara setiap baris dataframe utama dengan dataframe data baru\n",
        "df2['distance'] = euclidean_distances(df2[['diagonal', 'height_left', 'height_right', 'margin_low', 'margin_up', 'length']], new_data)\n",
        "\n",
        "# Menampilkan tabel jarak\n",
        "print('Tabel Jarak : ')\n",
        "print(df2['distance'])\n"
      ],
      "metadata": {
        "colab": {
          "base_uri": "https://localhost:8080/"
        },
        "id": "2GD3xbLLxJ3D",
        "outputId": "d13bd15e-14b3-40a3-bf5e-1651b050cd99"
      },
      "execution_count": 20,
      "outputs": [
        {
          "output_type": "stream",
          "name": "stdout",
          "text": [
            "Tabel Jarak : \n",
            "0    0.671267\n",
            "1    1.458321\n",
            "2    0.834626\n",
            "3    0.910934\n",
            "4    1.312593\n",
            "5    2.421281\n",
            "6    1.741896\n",
            "7    1.113463\n",
            "8    1.722034\n",
            "9    1.738217\n",
            "Name: distance, dtype: float64\n"
          ]
        }
      ]
    },
    {
      "cell_type": "markdown",
      "source": [
        "### 1. Menambahkan Kolom Jarak\n"
      ],
      "metadata": {
        "id": "4SWNqwqVxfoS"
      }
    },
    {
      "cell_type": "code",
      "source": [
        "# 1. Tambahkan kolom jarak untuk menampilkan jarak dari dataset terhadap target prediksi"
      ],
      "metadata": {
        "id": "09vio_0B1KQk"
      },
      "execution_count": null,
      "outputs": []
    },
    {
      "cell_type": "code",
      "source": [
        "# setting pandas agar bisa menampilkan seluruh kolom dibaris yang sesuai\n",
        "pd.set_option('display.max_columns', None)\n",
        "\n",
        "# Mengatur lebar tabel menjadi 200\n",
        "pd.set_option('display.width', 200)\n",
        "\n",
        "df2"
      ],
      "metadata": {
        "id": "qTkBa8O3xt5o"
      },
      "execution_count": null,
      "outputs": []
    },
    {
      "cell_type": "markdown",
      "source": [
        "### 2. Mengurutkan data berdasarkan K jarak terdekat (dengan k = akar 2 dari banyak data)"
      ],
      "metadata": {
        "id": "b_d9hNH4x2vR"
      }
    },
    {
      "cell_type": "code",
      "source": [
        "# 2. Urutkan data berdasarkan K jarak terdekat (Untuk K nya ambil akar 2 dari banyak data)"
      ],
      "metadata": {
        "id": "DgeVwMEX2JZi"
      },
      "execution_count": null,
      "outputs": []
    },
    {
      "cell_type": "code",
      "source": [
        "# Menghitung jarak antara setiap baris dataframe utama dengan dataframe data baru\n",
        "df2['distance'] = np.sqrt(\n",
        "    (df2['diagonal'] - 172.25)**2\n",
        "    + (df2['height_left'] - 103.94)**2\n",
        "    + (df2['height_right'] - 103.68)**2\n",
        "    + (df2['margin_low'] - 4.14)**2\n",
        "    + (df2['margin_up'] - 3.25)**2\n",
        "    + (df2['length'] - 112.48)**2\n",
        ")\n",
        "\n",
        "# Mengurutkan data dari kecil ke besar dan menentukan data terdekat\n",
        "k = int(np.sqrt(len(df2)))\n",
        "data_terdekat = df2.sort_values('distance').head(k)\n",
        "\n",
        "# Menampilkan data terdekat\n",
        "print(data_terdekat)\n"
      ],
      "metadata": {
        "id": "Ar6_JMjax4nV"
      },
      "execution_count": null,
      "outputs": []
    },
    {
      "cell_type": "markdown",
      "source": [
        "### 3. Menentukan hasil prediksi berdasarkan label terbanyak"
      ],
      "metadata": {
        "id": "pK35qo2Lx9aX"
      }
    },
    {
      "cell_type": "code",
      "source": [
        "# 3. Tentukan apa hasil prediksinya berdasarkan label terbanyak"
      ],
      "metadata": {
        "id": "JAho0GXZ2QeD"
      },
      "execution_count": null,
      "outputs": []
    },
    {
      "cell_type": "code",
      "source": [
        "# Mengimpor library sklearn untuk menggunakan algoritma KNN\n",
        "from sklearn.neighbors import KNeighborsClassifier\n",
        "\n",
        "# Split data menjadi data training dan data testing\n",
        "X_train = df2.drop(columns=['is_genuine','distance'],axis=1)\n",
        "y_train = df2['is_genuine']\n",
        "\n",
        "# inisiasi data baru menjadi data tes\n",
        "test_data = new_data\n",
        "\n",
        "# membuat variabel knn yang berisikan algoritma KNN dengan nilai K = akar 2 dari banyak data\n",
        "knn = KNeighborsClassifier(n_neighbors=k)\n",
        "\n",
        "# melatih knn dengan data training\n",
        "knn.fit(X_train, y_train)\n",
        "\n",
        "# memprediksi hasil\n",
        "prediksi = knn.predict(test_data)\n",
        "\n",
        "print(\"Berdasarkan jawaban nomor 2, maka hasil prediksinya adalah : True \")\n",
        "print(\"Berdasarkan penggunaan library sklearn untuk memprediksi menggunakan Algoritma KNN, hasilnya adalah : \"+ ' '.join(map(str, prediksi)))"
      ],
      "metadata": {
        "id": "eThKUT-2yEzP"
      },
      "execution_count": null,
      "outputs": []
    },
    {
      "cell_type": "markdown",
      "source": [
        "# (3) Analisis"
      ],
      "metadata": {
        "id": "F0N-LXThwiqD"
      }
    },
    {
      "cell_type": "markdown",
      "source": [
        "> Nama : Muhammad Rizky Anugrah\n",
        "\n",
        "> Nim : 2109116066\n"
      ],
      "metadata": {
        "id": "dItRdcTguaHj"
      }
    },
    {
      "cell_type": "markdown",
      "source": [
        "Penjelasan posttest : \n",
        "\n",
        "Pilihlah salah satu tema dari daftar tema ini :  \n",
        "1. Perbankan\n",
        "2. Kesehatan\n",
        "3. Ritel\n",
        "4. Pendidkan\n",
        "\n",
        "Kemudian lakukan analisis dengan menggunakan struktur CRISP-DM\n",
        "\n",
        "Dimulai dari Business Understanding Hingga Data Preparation \n",
        "<img src=\"https://th.bing.com/th/id/R.f8efea41ae3cd96d86fbc5b10f81ad77?rik=K4Dr%2biIaVGvW8g&riu=http%3a%2f%2fwww.dataprix.com%2ffiles%2fCRISPDM%2fMetodologia_CRISP_DM1_html_52cdbecf.png&ehk=6ONLJMCVxE421Sjt2JJPE6MfCzrL7LLhDZQPdkJTLcw%3d&risl=&pid=ImgRaw&r=0\"/>\n",
        "\n",
        "Tentukan judul dengan ketentuan setiap orang di kelas beda-beda judulnya dan sumber datasetnya (contoh bisa prediksi atau aturan asosiasi)\n",
        "\n",
        "Catatan : Tugas ini akan berhubungan dengan posttest terakhir (pertemuan 6)"
      ],
      "metadata": {
        "id": "Vbv4o0Q2uiXZ"
      }
    },
    {
      "cell_type": "markdown",
      "source": [
        "## 1.Business Understanding"
      ],
      "metadata": {
        "id": "_XiEh5LhuDqf"
      }
    },
    {
      "cell_type": "markdown",
      "source": [
        "### Judul : Data infeksi covid19 Indonesia\n",
        "### Business Understanding\n",
        "\n",
        "> #### Dataset `data_infeksi_covid19_indonesia.csv` adalah kumpulan data yang berisi informasi tentang kasus infeksi COVID-19 di Indonesia. Dalam konteks bisnis, dataset ini dapat memberikan wawasan tentang dampak pandemi COVID-19 terhadap sektor bisnis di Indonesia dan bagaimana perusahaan dapat mengelola risiko yang terkait dengan pandemi ini.\n",
        "\n",
        "> #### Berikut contoh kodingan python untuk membaca dataset `data_infeksi_covid19_indonesia.csv` menggunakan library pandas dan menampilkan datanya:\n",
        "\n"
      ],
      "metadata": {
        "id": "_XFOc0DQqmpZ"
      }
    },
    {
      "cell_type": "markdown",
      "source": [
        "## 2. Data Understanding"
      ],
      "metadata": {
        "id": "JW9S5eFKuP1H"
      }
    },
    {
      "cell_type": "markdown",
      "source": [
        "### Memahami struktur data dan variabel yang terkandung di dalamnya. Dataset ini berisi data tentang informasi kasus covid19. Terdapat beberapa column dalam dataset ini yaitu:"
      ],
      "metadata": {
        "id": "TJDPsfs8vTNE"
      }
    },
    {
      "cell_type": "markdown",
      "source": [
        "### Collect Data"
      ],
      "metadata": {
        "id": "0FOD0chox4b6"
      }
    },
    {
      "cell_type": "code",
      "source": [
        "import pandas as pd\n",
        "df3 = pd.read_csv('https://raw.githubusercontent.com/rizkyanugrah/DATMIN_POSTTEST-2/main/data_infeksi_covid19_indonesia.csv')\n"
      ],
      "metadata": {
        "id": "EO3Aol8HtpLa"
      },
      "execution_count": 5,
      "outputs": []
    },
    {
      "cell_type": "markdown",
      "source": [
        "### Describe Data"
      ],
      "metadata": {
        "id": "RlrKdAgQyDIZ"
      }
    },
    {
      "cell_type": "code",
      "source": [
        "df3"
      ],
      "metadata": {
        "colab": {
          "base_uri": "https://localhost:8080/",
          "height": 424
        },
        "id": "zkzOXlW6yGOj",
        "outputId": "f1103972-9121-4e14-e03d-e42d54bde4d7"
      },
      "execution_count": 6,
      "outputs": [
        {
          "output_type": "execute_result",
          "data": {
            "text/plain": [
              "        tanggal  jumlah_periksa  konfirmasi  sembuh  meninggal  negatif  \\\n",
              "0    2020-02-18             112           0       0          0      110   \n",
              "1    2020-02-19             114           0       0          0      112   \n",
              "2    2020-02-20             118           0       0          0      116   \n",
              "3    2020-02-21             121           0       0          0      121   \n",
              "4    2020-02-22             121           0       0          0      121   \n",
              "..          ...             ...         ...     ...        ...      ...   \n",
              "100  2020-05-28          201311       24538    6240       1496   176773   \n",
              "101  2020-05-29          205165       25216    6492       1520   179949   \n",
              "102  2020-05-30          216769       25773    7015       1573   190996   \n",
              "103  2020-05-31          216769       25773    7015       1573   190996   \n",
              "104  2020-06-01          232113       26940    7637       1641   205173   \n",
              "\n",
              "     proses_periksa  kasus_perawatan                                  catatan  \n",
              "0                 2              0.0                                      NaN  \n",
              "1                 2              0.0                                      NaN  \n",
              "2                 2              0.0                                      NaN  \n",
              "3                 0              0.0                                      NaN  \n",
              "4                 0              0.0  Tidak tersedia data/Tidak ada perubahan  \n",
              "..              ...              ...                                      ...  \n",
              "100               0              NaN                              [automated]  \n",
              "101               0              NaN                              [automated]  \n",
              "102               0              NaN                              [automated]  \n",
              "103               0              NaN                              [automated]  \n",
              "104               0              NaN                              [automated]  \n",
              "\n",
              "[105 rows x 9 columns]"
            ],
            "text/html": [
              "\n",
              "  <div id=\"df-c5ba4692-4f95-4ae0-b0b3-91d57b815bd5\">\n",
              "    <div class=\"colab-df-container\">\n",
              "      <div>\n",
              "<style scoped>\n",
              "    .dataframe tbody tr th:only-of-type {\n",
              "        vertical-align: middle;\n",
              "    }\n",
              "\n",
              "    .dataframe tbody tr th {\n",
              "        vertical-align: top;\n",
              "    }\n",
              "\n",
              "    .dataframe thead th {\n",
              "        text-align: right;\n",
              "    }\n",
              "</style>\n",
              "<table border=\"1\" class=\"dataframe\">\n",
              "  <thead>\n",
              "    <tr style=\"text-align: right;\">\n",
              "      <th></th>\n",
              "      <th>tanggal</th>\n",
              "      <th>jumlah_periksa</th>\n",
              "      <th>konfirmasi</th>\n",
              "      <th>sembuh</th>\n",
              "      <th>meninggal</th>\n",
              "      <th>negatif</th>\n",
              "      <th>proses_periksa</th>\n",
              "      <th>kasus_perawatan</th>\n",
              "      <th>catatan</th>\n",
              "    </tr>\n",
              "  </thead>\n",
              "  <tbody>\n",
              "    <tr>\n",
              "      <th>0</th>\n",
              "      <td>2020-02-18</td>\n",
              "      <td>112</td>\n",
              "      <td>0</td>\n",
              "      <td>0</td>\n",
              "      <td>0</td>\n",
              "      <td>110</td>\n",
              "      <td>2</td>\n",
              "      <td>0.0</td>\n",
              "      <td>NaN</td>\n",
              "    </tr>\n",
              "    <tr>\n",
              "      <th>1</th>\n",
              "      <td>2020-02-19</td>\n",
              "      <td>114</td>\n",
              "      <td>0</td>\n",
              "      <td>0</td>\n",
              "      <td>0</td>\n",
              "      <td>112</td>\n",
              "      <td>2</td>\n",
              "      <td>0.0</td>\n",
              "      <td>NaN</td>\n",
              "    </tr>\n",
              "    <tr>\n",
              "      <th>2</th>\n",
              "      <td>2020-02-20</td>\n",
              "      <td>118</td>\n",
              "      <td>0</td>\n",
              "      <td>0</td>\n",
              "      <td>0</td>\n",
              "      <td>116</td>\n",
              "      <td>2</td>\n",
              "      <td>0.0</td>\n",
              "      <td>NaN</td>\n",
              "    </tr>\n",
              "    <tr>\n",
              "      <th>3</th>\n",
              "      <td>2020-02-21</td>\n",
              "      <td>121</td>\n",
              "      <td>0</td>\n",
              "      <td>0</td>\n",
              "      <td>0</td>\n",
              "      <td>121</td>\n",
              "      <td>0</td>\n",
              "      <td>0.0</td>\n",
              "      <td>NaN</td>\n",
              "    </tr>\n",
              "    <tr>\n",
              "      <th>4</th>\n",
              "      <td>2020-02-22</td>\n",
              "      <td>121</td>\n",
              "      <td>0</td>\n",
              "      <td>0</td>\n",
              "      <td>0</td>\n",
              "      <td>121</td>\n",
              "      <td>0</td>\n",
              "      <td>0.0</td>\n",
              "      <td>Tidak tersedia data/Tidak ada perubahan</td>\n",
              "    </tr>\n",
              "    <tr>\n",
              "      <th>...</th>\n",
              "      <td>...</td>\n",
              "      <td>...</td>\n",
              "      <td>...</td>\n",
              "      <td>...</td>\n",
              "      <td>...</td>\n",
              "      <td>...</td>\n",
              "      <td>...</td>\n",
              "      <td>...</td>\n",
              "      <td>...</td>\n",
              "    </tr>\n",
              "    <tr>\n",
              "      <th>100</th>\n",
              "      <td>2020-05-28</td>\n",
              "      <td>201311</td>\n",
              "      <td>24538</td>\n",
              "      <td>6240</td>\n",
              "      <td>1496</td>\n",
              "      <td>176773</td>\n",
              "      <td>0</td>\n",
              "      <td>NaN</td>\n",
              "      <td>[automated]</td>\n",
              "    </tr>\n",
              "    <tr>\n",
              "      <th>101</th>\n",
              "      <td>2020-05-29</td>\n",
              "      <td>205165</td>\n",
              "      <td>25216</td>\n",
              "      <td>6492</td>\n",
              "      <td>1520</td>\n",
              "      <td>179949</td>\n",
              "      <td>0</td>\n",
              "      <td>NaN</td>\n",
              "      <td>[automated]</td>\n",
              "    </tr>\n",
              "    <tr>\n",
              "      <th>102</th>\n",
              "      <td>2020-05-30</td>\n",
              "      <td>216769</td>\n",
              "      <td>25773</td>\n",
              "      <td>7015</td>\n",
              "      <td>1573</td>\n",
              "      <td>190996</td>\n",
              "      <td>0</td>\n",
              "      <td>NaN</td>\n",
              "      <td>[automated]</td>\n",
              "    </tr>\n",
              "    <tr>\n",
              "      <th>103</th>\n",
              "      <td>2020-05-31</td>\n",
              "      <td>216769</td>\n",
              "      <td>25773</td>\n",
              "      <td>7015</td>\n",
              "      <td>1573</td>\n",
              "      <td>190996</td>\n",
              "      <td>0</td>\n",
              "      <td>NaN</td>\n",
              "      <td>[automated]</td>\n",
              "    </tr>\n",
              "    <tr>\n",
              "      <th>104</th>\n",
              "      <td>2020-06-01</td>\n",
              "      <td>232113</td>\n",
              "      <td>26940</td>\n",
              "      <td>7637</td>\n",
              "      <td>1641</td>\n",
              "      <td>205173</td>\n",
              "      <td>0</td>\n",
              "      <td>NaN</td>\n",
              "      <td>[automated]</td>\n",
              "    </tr>\n",
              "  </tbody>\n",
              "</table>\n",
              "<p>105 rows × 9 columns</p>\n",
              "</div>\n",
              "      <button class=\"colab-df-convert\" onclick=\"convertToInteractive('df-c5ba4692-4f95-4ae0-b0b3-91d57b815bd5')\"\n",
              "              title=\"Convert this dataframe to an interactive table.\"\n",
              "              style=\"display:none;\">\n",
              "        \n",
              "  <svg xmlns=\"http://www.w3.org/2000/svg\" height=\"24px\"viewBox=\"0 0 24 24\"\n",
              "       width=\"24px\">\n",
              "    <path d=\"M0 0h24v24H0V0z\" fill=\"none\"/>\n",
              "    <path d=\"M18.56 5.44l.94 2.06.94-2.06 2.06-.94-2.06-.94-.94-2.06-.94 2.06-2.06.94zm-11 1L8.5 8.5l.94-2.06 2.06-.94-2.06-.94L8.5 2.5l-.94 2.06-2.06.94zm10 10l.94 2.06.94-2.06 2.06-.94-2.06-.94-.94-2.06-.94 2.06-2.06.94z\"/><path d=\"M17.41 7.96l-1.37-1.37c-.4-.4-.92-.59-1.43-.59-.52 0-1.04.2-1.43.59L10.3 9.45l-7.72 7.72c-.78.78-.78 2.05 0 2.83L4 21.41c.39.39.9.59 1.41.59.51 0 1.02-.2 1.41-.59l7.78-7.78 2.81-2.81c.8-.78.8-2.07 0-2.86zM5.41 20L4 18.59l7.72-7.72 1.47 1.35L5.41 20z\"/>\n",
              "  </svg>\n",
              "      </button>\n",
              "      \n",
              "  <style>\n",
              "    .colab-df-container {\n",
              "      display:flex;\n",
              "      flex-wrap:wrap;\n",
              "      gap: 12px;\n",
              "    }\n",
              "\n",
              "    .colab-df-convert {\n",
              "      background-color: #E8F0FE;\n",
              "      border: none;\n",
              "      border-radius: 50%;\n",
              "      cursor: pointer;\n",
              "      display: none;\n",
              "      fill: #1967D2;\n",
              "      height: 32px;\n",
              "      padding: 0 0 0 0;\n",
              "      width: 32px;\n",
              "    }\n",
              "\n",
              "    .colab-df-convert:hover {\n",
              "      background-color: #E2EBFA;\n",
              "      box-shadow: 0px 1px 2px rgba(60, 64, 67, 0.3), 0px 1px 3px 1px rgba(60, 64, 67, 0.15);\n",
              "      fill: #174EA6;\n",
              "    }\n",
              "\n",
              "    [theme=dark] .colab-df-convert {\n",
              "      background-color: #3B4455;\n",
              "      fill: #D2E3FC;\n",
              "    }\n",
              "\n",
              "    [theme=dark] .colab-df-convert:hover {\n",
              "      background-color: #434B5C;\n",
              "      box-shadow: 0px 1px 3px 1px rgba(0, 0, 0, 0.15);\n",
              "      filter: drop-shadow(0px 1px 2px rgba(0, 0, 0, 0.3));\n",
              "      fill: #FFFFFF;\n",
              "    }\n",
              "  </style>\n",
              "\n",
              "      <script>\n",
              "        const buttonEl =\n",
              "          document.querySelector('#df-c5ba4692-4f95-4ae0-b0b3-91d57b815bd5 button.colab-df-convert');\n",
              "        buttonEl.style.display =\n",
              "          google.colab.kernel.accessAllowed ? 'block' : 'none';\n",
              "\n",
              "        async function convertToInteractive(key) {\n",
              "          const element = document.querySelector('#df-c5ba4692-4f95-4ae0-b0b3-91d57b815bd5');\n",
              "          const dataTable =\n",
              "            await google.colab.kernel.invokeFunction('convertToInteractive',\n",
              "                                                     [key], {});\n",
              "          if (!dataTable) return;\n",
              "\n",
              "          const docLinkHtml = 'Like what you see? Visit the ' +\n",
              "            '<a target=\"_blank\" href=https://colab.research.google.com/notebooks/data_table.ipynb>data table notebook</a>'\n",
              "            + ' to learn more about interactive tables.';\n",
              "          element.innerHTML = '';\n",
              "          dataTable['output_type'] = 'display_data';\n",
              "          await google.colab.output.renderOutput(dataTable, element);\n",
              "          const docLink = document.createElement('div');\n",
              "          docLink.innerHTML = docLinkHtml;\n",
              "          element.appendChild(docLink);\n",
              "        }\n",
              "      </script>\n",
              "    </div>\n",
              "  </div>\n",
              "  "
            ]
          },
          "metadata": {},
          "execution_count": 6
        }
      ]
    },
    {
      "cell_type": "markdown",
      "source": [
        "### Penjelasan Setiap Column"
      ],
      "metadata": {
        "id": "IYw8wm4zw7ZC"
      }
    },
    {
      "cell_type": "code",
      "source": [
        "df3.info()\n",
        "\n",
        "# tanggal: Tanggal data dilaporkan (diambil dari informasi \"Data dilaporkan sampai [tanggal]\" di setiap dokumen situasi terkini).\n",
        "# jumlah_periksa: Jumlah kasus yang telah diperiksa / jumlah spesimen yang diterima.\n",
        "# konfirmasi: Jumlah kasus yang positif COVID-19.\n",
        "# sembuh: Jumlah kasus yang sembuh dari positif COVID-19.\n",
        "# meninggal: Jumlah kasus yang meninggal dari positif COVID-19.\n",
        "# negatif: Jumlah kasus yang negatif COVID-19.\n",
        "# proses_periksa: Jumlah spesimen yang masih dalam proses pemeriksaan.\n",
        "# kasus_perawatan: Jumlah kasus dalam perawatan. Informasi ini tidak tersedia pada laporan. Kolom ini dapat diabaikan.\n",
        "# catatan: Informasi tambahan dari dokumen dan/atau komentar mengenai laporan data. Kolom ini dapat diabaikan."
      ],
      "metadata": {
        "id": "E1tIFmCUwZwM"
      },
      "execution_count": null,
      "outputs": []
    },
    {
      "cell_type": "markdown",
      "source": [
        "## 3. Data preparation"
      ],
      "metadata": {
        "id": "WoGuRf5txdBs"
      }
    },
    {
      "cell_type": "markdown",
      "source": [
        "### Disini kita melakukan beberapa tahapan untuk mempersiapkan data sebelum dilakukan analisis. Pada kasus ini, kita melakukan beberapa hal seperti menghapus kolom yang tidak diperlukan, mengisi nilai yang hilang dengan rata-rata,Intinya adalah cleaning data."
      ],
      "metadata": {
        "id": "kw9DtKdAzeie"
      }
    },
    {
      "cell_type": "markdown",
      "source": [
        "### Mengisi nilai yang hilang"
      ],
      "metadata": {
        "id": "O5OZrE2q1fBC"
      }
    },
    {
      "cell_type": "code",
      "source": [
        "# Mengisi nilai yang hilang dengan rata-rata\n",
        "df3.fillna(df.mean(), inplace=True)"
      ],
      "metadata": {
        "colab": {
          "base_uri": "https://localhost:8080/"
        },
        "id": "9ThLvGHF1kRj",
        "outputId": "ccb0ef2e-5ff9-4b10-f8b7-dae1c8fcee32"
      },
      "execution_count": 20,
      "outputs": [
        {
          "output_type": "stream",
          "name": "stderr",
          "text": [
            "<ipython-input-20-a90372fcf971>:2: FutureWarning: Dropping of nuisance columns in DataFrame reductions (with 'numeric_only=None') is deprecated; in a future version this will raise TypeError.  Select only valid columns before calling the reduction.\n",
            "  df3.fillna(df.mean(), inplace=True)\n"
          ]
        }
      ]
    },
    {
      "cell_type": "markdown",
      "source": [
        "### Menghapus kolom tidak di perlukan"
      ],
      "metadata": {
        "id": "IsIfBwqO1oHp"
      }
    },
    {
      "cell_type": "code",
      "source": [
        "# Menghapus kolom yang tidak diperlukan\n",
        "df3.drop(columns=[\"catatan\"])"
      ],
      "metadata": {
        "colab": {
          "base_uri": "https://localhost:8080/",
          "height": 424
        },
        "id": "qWI1OxCh1tZH",
        "outputId": "2473393b-68fe-42ba-cab3-84b525cc7a78"
      },
      "execution_count": 21,
      "outputs": [
        {
          "output_type": "execute_result",
          "data": {
            "text/plain": [
              "        tanggal  jumlah_periksa  konfirmasi  sembuh  meninggal  negatif  \\\n",
              "0    2020-02-18             112           0       0          0      110   \n",
              "1    2020-02-19             114           0       0          0      112   \n",
              "2    2020-02-20             118           0       0          0      116   \n",
              "3    2020-02-21             121           0       0          0      121   \n",
              "4    2020-02-22             121           0       0          0      121   \n",
              "..          ...             ...         ...     ...        ...      ...   \n",
              "100  2020-05-28          201311       24538    6240       1496   176773   \n",
              "101  2020-05-29          205165       25216    6492       1520   179949   \n",
              "102  2020-05-30          216769       25773    7015       1573   190996   \n",
              "103  2020-05-31          216769       25773    7015       1573   190996   \n",
              "104  2020-06-01          232113       26940    7637       1641   205173   \n",
              "\n",
              "     proses_periksa  kasus_perawatan  \n",
              "0                 2         0.000000  \n",
              "1                 2         0.000000  \n",
              "2                 2         0.000000  \n",
              "3                 0         0.000000  \n",
              "4                 0         0.000000  \n",
              "..              ...              ...  \n",
              "100               0        32.673469  \n",
              "101               0        32.673469  \n",
              "102               0        32.673469  \n",
              "103               0        32.673469  \n",
              "104               0        32.673469  \n",
              "\n",
              "[105 rows x 8 columns]"
            ],
            "text/html": [
              "\n",
              "  <div id=\"df-39b4b46c-af0f-402f-bb10-b07cbfef2932\">\n",
              "    <div class=\"colab-df-container\">\n",
              "      <div>\n",
              "<style scoped>\n",
              "    .dataframe tbody tr th:only-of-type {\n",
              "        vertical-align: middle;\n",
              "    }\n",
              "\n",
              "    .dataframe tbody tr th {\n",
              "        vertical-align: top;\n",
              "    }\n",
              "\n",
              "    .dataframe thead th {\n",
              "        text-align: right;\n",
              "    }\n",
              "</style>\n",
              "<table border=\"1\" class=\"dataframe\">\n",
              "  <thead>\n",
              "    <tr style=\"text-align: right;\">\n",
              "      <th></th>\n",
              "      <th>tanggal</th>\n",
              "      <th>jumlah_periksa</th>\n",
              "      <th>konfirmasi</th>\n",
              "      <th>sembuh</th>\n",
              "      <th>meninggal</th>\n",
              "      <th>negatif</th>\n",
              "      <th>proses_periksa</th>\n",
              "      <th>kasus_perawatan</th>\n",
              "    </tr>\n",
              "  </thead>\n",
              "  <tbody>\n",
              "    <tr>\n",
              "      <th>0</th>\n",
              "      <td>2020-02-18</td>\n",
              "      <td>112</td>\n",
              "      <td>0</td>\n",
              "      <td>0</td>\n",
              "      <td>0</td>\n",
              "      <td>110</td>\n",
              "      <td>2</td>\n",
              "      <td>0.000000</td>\n",
              "    </tr>\n",
              "    <tr>\n",
              "      <th>1</th>\n",
              "      <td>2020-02-19</td>\n",
              "      <td>114</td>\n",
              "      <td>0</td>\n",
              "      <td>0</td>\n",
              "      <td>0</td>\n",
              "      <td>112</td>\n",
              "      <td>2</td>\n",
              "      <td>0.000000</td>\n",
              "    </tr>\n",
              "    <tr>\n",
              "      <th>2</th>\n",
              "      <td>2020-02-20</td>\n",
              "      <td>118</td>\n",
              "      <td>0</td>\n",
              "      <td>0</td>\n",
              "      <td>0</td>\n",
              "      <td>116</td>\n",
              "      <td>2</td>\n",
              "      <td>0.000000</td>\n",
              "    </tr>\n",
              "    <tr>\n",
              "      <th>3</th>\n",
              "      <td>2020-02-21</td>\n",
              "      <td>121</td>\n",
              "      <td>0</td>\n",
              "      <td>0</td>\n",
              "      <td>0</td>\n",
              "      <td>121</td>\n",
              "      <td>0</td>\n",
              "      <td>0.000000</td>\n",
              "    </tr>\n",
              "    <tr>\n",
              "      <th>4</th>\n",
              "      <td>2020-02-22</td>\n",
              "      <td>121</td>\n",
              "      <td>0</td>\n",
              "      <td>0</td>\n",
              "      <td>0</td>\n",
              "      <td>121</td>\n",
              "      <td>0</td>\n",
              "      <td>0.000000</td>\n",
              "    </tr>\n",
              "    <tr>\n",
              "      <th>...</th>\n",
              "      <td>...</td>\n",
              "      <td>...</td>\n",
              "      <td>...</td>\n",
              "      <td>...</td>\n",
              "      <td>...</td>\n",
              "      <td>...</td>\n",
              "      <td>...</td>\n",
              "      <td>...</td>\n",
              "    </tr>\n",
              "    <tr>\n",
              "      <th>100</th>\n",
              "      <td>2020-05-28</td>\n",
              "      <td>201311</td>\n",
              "      <td>24538</td>\n",
              "      <td>6240</td>\n",
              "      <td>1496</td>\n",
              "      <td>176773</td>\n",
              "      <td>0</td>\n",
              "      <td>32.673469</td>\n",
              "    </tr>\n",
              "    <tr>\n",
              "      <th>101</th>\n",
              "      <td>2020-05-29</td>\n",
              "      <td>205165</td>\n",
              "      <td>25216</td>\n",
              "      <td>6492</td>\n",
              "      <td>1520</td>\n",
              "      <td>179949</td>\n",
              "      <td>0</td>\n",
              "      <td>32.673469</td>\n",
              "    </tr>\n",
              "    <tr>\n",
              "      <th>102</th>\n",
              "      <td>2020-05-30</td>\n",
              "      <td>216769</td>\n",
              "      <td>25773</td>\n",
              "      <td>7015</td>\n",
              "      <td>1573</td>\n",
              "      <td>190996</td>\n",
              "      <td>0</td>\n",
              "      <td>32.673469</td>\n",
              "    </tr>\n",
              "    <tr>\n",
              "      <th>103</th>\n",
              "      <td>2020-05-31</td>\n",
              "      <td>216769</td>\n",
              "      <td>25773</td>\n",
              "      <td>7015</td>\n",
              "      <td>1573</td>\n",
              "      <td>190996</td>\n",
              "      <td>0</td>\n",
              "      <td>32.673469</td>\n",
              "    </tr>\n",
              "    <tr>\n",
              "      <th>104</th>\n",
              "      <td>2020-06-01</td>\n",
              "      <td>232113</td>\n",
              "      <td>26940</td>\n",
              "      <td>7637</td>\n",
              "      <td>1641</td>\n",
              "      <td>205173</td>\n",
              "      <td>0</td>\n",
              "      <td>32.673469</td>\n",
              "    </tr>\n",
              "  </tbody>\n",
              "</table>\n",
              "<p>105 rows × 8 columns</p>\n",
              "</div>\n",
              "      <button class=\"colab-df-convert\" onclick=\"convertToInteractive('df-39b4b46c-af0f-402f-bb10-b07cbfef2932')\"\n",
              "              title=\"Convert this dataframe to an interactive table.\"\n",
              "              style=\"display:none;\">\n",
              "        \n",
              "  <svg xmlns=\"http://www.w3.org/2000/svg\" height=\"24px\"viewBox=\"0 0 24 24\"\n",
              "       width=\"24px\">\n",
              "    <path d=\"M0 0h24v24H0V0z\" fill=\"none\"/>\n",
              "    <path d=\"M18.56 5.44l.94 2.06.94-2.06 2.06-.94-2.06-.94-.94-2.06-.94 2.06-2.06.94zm-11 1L8.5 8.5l.94-2.06 2.06-.94-2.06-.94L8.5 2.5l-.94 2.06-2.06.94zm10 10l.94 2.06.94-2.06 2.06-.94-2.06-.94-.94-2.06-.94 2.06-2.06.94z\"/><path d=\"M17.41 7.96l-1.37-1.37c-.4-.4-.92-.59-1.43-.59-.52 0-1.04.2-1.43.59L10.3 9.45l-7.72 7.72c-.78.78-.78 2.05 0 2.83L4 21.41c.39.39.9.59 1.41.59.51 0 1.02-.2 1.41-.59l7.78-7.78 2.81-2.81c.8-.78.8-2.07 0-2.86zM5.41 20L4 18.59l7.72-7.72 1.47 1.35L5.41 20z\"/>\n",
              "  </svg>\n",
              "      </button>\n",
              "      \n",
              "  <style>\n",
              "    .colab-df-container {\n",
              "      display:flex;\n",
              "      flex-wrap:wrap;\n",
              "      gap: 12px;\n",
              "    }\n",
              "\n",
              "    .colab-df-convert {\n",
              "      background-color: #E8F0FE;\n",
              "      border: none;\n",
              "      border-radius: 50%;\n",
              "      cursor: pointer;\n",
              "      display: none;\n",
              "      fill: #1967D2;\n",
              "      height: 32px;\n",
              "      padding: 0 0 0 0;\n",
              "      width: 32px;\n",
              "    }\n",
              "\n",
              "    .colab-df-convert:hover {\n",
              "      background-color: #E2EBFA;\n",
              "      box-shadow: 0px 1px 2px rgba(60, 64, 67, 0.3), 0px 1px 3px 1px rgba(60, 64, 67, 0.15);\n",
              "      fill: #174EA6;\n",
              "    }\n",
              "\n",
              "    [theme=dark] .colab-df-convert {\n",
              "      background-color: #3B4455;\n",
              "      fill: #D2E3FC;\n",
              "    }\n",
              "\n",
              "    [theme=dark] .colab-df-convert:hover {\n",
              "      background-color: #434B5C;\n",
              "      box-shadow: 0px 1px 3px 1px rgba(0, 0, 0, 0.15);\n",
              "      filter: drop-shadow(0px 1px 2px rgba(0, 0, 0, 0.3));\n",
              "      fill: #FFFFFF;\n",
              "    }\n",
              "  </style>\n",
              "\n",
              "      <script>\n",
              "        const buttonEl =\n",
              "          document.querySelector('#df-39b4b46c-af0f-402f-bb10-b07cbfef2932 button.colab-df-convert');\n",
              "        buttonEl.style.display =\n",
              "          google.colab.kernel.accessAllowed ? 'block' : 'none';\n",
              "\n",
              "        async function convertToInteractive(key) {\n",
              "          const element = document.querySelector('#df-39b4b46c-af0f-402f-bb10-b07cbfef2932');\n",
              "          const dataTable =\n",
              "            await google.colab.kernel.invokeFunction('convertToInteractive',\n",
              "                                                     [key], {});\n",
              "          if (!dataTable) return;\n",
              "\n",
              "          const docLinkHtml = 'Like what you see? Visit the ' +\n",
              "            '<a target=\"_blank\" href=https://colab.research.google.com/notebooks/data_table.ipynb>data table notebook</a>'\n",
              "            + ' to learn more about interactive tables.';\n",
              "          element.innerHTML = '';\n",
              "          dataTable['output_type'] = 'display_data';\n",
              "          await google.colab.output.renderOutput(dataTable, element);\n",
              "          const docLink = document.createElement('div');\n",
              "          docLink.innerHTML = docLinkHtml;\n",
              "          element.appendChild(docLink);\n",
              "        }\n",
              "      </script>\n",
              "    </div>\n",
              "  </div>\n",
              "  "
            ]
          },
          "metadata": {},
          "execution_count": 21
        }
      ]
    }
  ]
}